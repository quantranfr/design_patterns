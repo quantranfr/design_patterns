{
 "cells": [
  {
   "cell_type": "code",
   "execution_count": 1,
   "metadata": {},
   "outputs": [],
   "source": [
    "class Dog:\n",
    "    def bark(self):\n",
    "        print('ruff ruff')\n",
    "        \n",
    "class Cat:\n",
    "    def meow(self):\n",
    "        print('meow meow')\n",
    "        \n",
    "class CatAdapter(Dog):\n",
    "    cat = None\n",
    "    \n",
    "    def __init__(self, cat):\n",
    "        self.cat = cat\n",
    "        \n",
    "    def bark(self):\n",
    "        self.cat.meow()\n",
    "        "
   ]
  },
  {
   "cell_type": "code",
   "execution_count": 2,
   "metadata": {},
   "outputs": [
    {
     "name": "stdout",
     "output_type": "stream",
     "text": [
      "ruff ruff\n",
      "meow meow\n",
      "meow meow\n"
     ]
    }
   ],
   "source": [
    "d = Dog()\n",
    "d.bark()\n",
    "\n",
    "c = Cat()\n",
    "c.meow()\n",
    "\n",
    "a = CatAdapter(c)\n",
    "a.bark()"
   ]
  },
  {
   "cell_type": "code",
   "execution_count": null,
   "metadata": {},
   "outputs": [],
   "source": []
  }
 ],
 "metadata": {
  "kernelspec": {
   "display_name": "Python 3",
   "language": "python",
   "name": "python3"
  },
  "language_info": {
   "codemirror_mode": {
    "name": "ipython",
    "version": 3
   },
   "file_extension": ".py",
   "mimetype": "text/x-python",
   "name": "python",
   "nbconvert_exporter": "python",
   "pygments_lexer": "ipython3",
   "version": "3.8.5"
  }
 },
 "nbformat": 4,
 "nbformat_minor": 4
}
