{
 "cells": [
  {
   "cell_type": "code",
   "execution_count": 1,
   "metadata": {},
   "outputs": [],
   "source": [
    "class Object1:\n",
    "    def on(self):\n",
    "        print('object 1 is on')\n",
    "        \n",
    "\n",
    "class Object2:\n",
    "    def open(self):\n",
    "        print('object 2 is opened')\n",
    "        \n",
    "        \n",
    "class Object3:\n",
    "    def pour(self, volume):\n",
    "        print('pooring', volume, 'liters to object 3')\n",
    "        \n",
    "        \n",
    "class PartyFacade:\n",
    "    def __init__(self):\n",
    "        self.o1 = Object1()\n",
    "        self.o2 = Object2()\n",
    "        self.o3 = Object3()\n",
    "        \n",
    "    def on(self):\n",
    "        self.o1.on()\n",
    "        self.o2.open()\n",
    "        self.o3.pour(4)"
   ]
  },
  {
   "cell_type": "code",
   "execution_count": 2,
   "metadata": {},
   "outputs": [
    {
     "name": "stdout",
     "output_type": "stream",
     "text": [
      "object 1 is on\n",
      "object 2 is opened\n",
      "pooring 4 liters to object 3\n"
     ]
    }
   ],
   "source": [
    "p = PartyFacade()\n",
    "p.on()"
   ]
  },
  {
   "cell_type": "code",
   "execution_count": null,
   "metadata": {},
   "outputs": [],
   "source": []
  }
 ],
 "metadata": {
  "kernelspec": {
   "display_name": "Python 3",
   "language": "python",
   "name": "python3"
  },
  "language_info": {
   "codemirror_mode": {
    "name": "ipython",
    "version": 3
   },
   "file_extension": ".py",
   "mimetype": "text/x-python",
   "name": "python",
   "nbconvert_exporter": "python",
   "pygments_lexer": "ipython3",
   "version": "3.8.5"
  }
 },
 "nbformat": 4,
 "nbformat_minor": 4
}
