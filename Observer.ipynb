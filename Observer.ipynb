{
 "cells": [
  {
   "cell_type": "code",
   "execution_count": 1,
   "metadata": {},
   "outputs": [],
   "source": [
    "class Subject:\n",
    "    value = None\n",
    "    observers = []\n",
    "    \n",
    "    def __init__(self, *observers):\n",
    "        for o in observers:\n",
    "            self.registerObserver(o)\n",
    "    \n",
    "    def setValue(self, value):\n",
    "        self.value = value\n",
    "        print('subject value is set to', value)\n",
    "        self.notifyObservers()\n",
    "        \n",
    "    def registerObserver(self, observer):\n",
    "        self.observers.append(observer)\n",
    "        print(observer.name, 'added')\n",
    "        \n",
    "    def unregisterObserver(self, observer):\n",
    "        self.observers.remove(observer)\n",
    "        print(observer.name, 'removed')\n",
    "        \n",
    "    def notifyObservers(self):\n",
    "        for o in self.observers:\n",
    "            o.update(self.value)\n",
    "            \n",
    "\n",
    "class ObserverAbstract:\n",
    "    name = None\n",
    "    value = None\n",
    "    \n",
    "    def __init__(self, name):\n",
    "        self.name = name\n",
    "        \n",
    "    def update(self, value):\n",
    "        raise NotImplementedError(\"not implemented\")\n",
    "        \n",
    "        \n",
    "class ObserverSimple(ObserverAbstract):\n",
    "    def update(self, value):\n",
    "        print('observer', self.name, 'know that the value has changed to', value)\n",
    "        \n",
    "        \n",
    "class ObserverComplex(ObserverAbstract):\n",
    "    def update(self, value):\n",
    "        print('observer', self.name, 'know that the value has changed from', self.value, 'to', value)\n",
    "        self.value = value\n",
    "        "
   ]
  },
  {
   "cell_type": "code",
   "execution_count": 2,
   "metadata": {},
   "outputs": [
    {
     "name": "stdout",
     "output_type": "stream",
     "text": [
      "o1 added\n",
      "o2 added\n",
      "subject value is set to 1\n",
      "observer o1 know that the value has changed to 1\n",
      "observer o2 know that the value has changed from None to 1\n",
      "subject value is set to 2\n",
      "observer o1 know that the value has changed to 2\n",
      "observer o2 know that the value has changed from 1 to 2\n",
      "o3 added\n",
      "subject value is set to 3\n",
      "observer o1 know that the value has changed to 3\n",
      "observer o2 know that the value has changed from 2 to 3\n",
      "observer o3 know that the value has changed from None to 3\n"
     ]
    }
   ],
   "source": [
    "o1 = ObserverSimple('o1')\n",
    "o2 = ObserverComplex('o2')\n",
    "o3 = ObserverComplex('o3')\n",
    "\n",
    "s = Subject(o1, o2)\n",
    "s.setValue(1)\n",
    "s.setValue(2)\n",
    "s.registerObserver(o3)\n",
    "s.setValue(3)"
   ]
  },
  {
   "cell_type": "code",
   "execution_count": null,
   "metadata": {},
   "outputs": [],
   "source": []
  }
 ],
 "metadata": {
  "kernelspec": {
   "display_name": "Python 3",
   "language": "python",
   "name": "python3"
  },
  "language_info": {
   "codemirror_mode": {
    "name": "ipython",
    "version": 3
   },
   "file_extension": ".py",
   "mimetype": "text/x-python",
   "name": "python",
   "nbconvert_exporter": "python",
   "pygments_lexer": "ipython3",
   "version": "3.8.5"
  }
 },
 "nbformat": 4,
 "nbformat_minor": 4
}
