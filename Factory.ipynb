{
 "cells": [
  {
   "cell_type": "code",
   "execution_count": 1,
   "metadata": {},
   "outputs": [],
   "source": [
    "class ProductDeploymentAbstract:\n",
    "    product = None\n",
    "    \n",
    "    def __init__(self, productFactory):\n",
    "        self.product = Product(productFactory)\n",
    "    \n",
    "    def step1(self):\n",
    "        print('step 1: activate', self.product.component1.name)\n",
    "        \n",
    "    def step2(self):\n",
    "        print('step 2: activate', self.product.component2.name)\n",
    "        \n",
    "    def step3(self):\n",
    "        print('step 3: activate', self.product.component3.name)\n",
    "\n",
    "\n",
    "class ProductDeployment_Type1(ProductDeploymentAbstract):\n",
    "    def __init__(self):\n",
    "        productFactory = ProductFactory('type 1')\n",
    "        super().__init__(productFactory)\n",
    "        \n",
    "    \n",
    "class ProductFactory:    \n",
    "    productType = None\n",
    "    \n",
    "    def __init__(self, productType):\n",
    "        self.productType = productType\n",
    "            \n",
    "    def createComponent1(self):\n",
    "        if self.productType == 'type 1':\n",
    "            return ComponentA1()\n",
    "        \n",
    "        if self.productType == 'type 2':\n",
    "            return ComponentA2()\n",
    "        \n",
    "    def createComponent2(self):\n",
    "        return ComponentB()\n",
    "    \n",
    "    def createComponent3(self):\n",
    "        return ComponentC()\n",
    "        \n",
    "    \n",
    "class ComponentA1:\n",
    "    def __init__(self):\n",
    "        self.name='component A1'\n",
    "        \n",
    "\n",
    "class ComponentA2:\n",
    "    def __init__(self):\n",
    "        self.name='component A2'\n",
    "        \n",
    "        \n",
    "class ComponentB:\n",
    "    def __init__(self):\n",
    "        self.name='component B'\n",
    "\n",
    "\n",
    "class ComponentC:\n",
    "    def __init__(self):\n",
    "        self.name='component C'\n",
    "        \n",
    "        \n",
    "class Product:\n",
    "    productFactory = None\n",
    "    component1 = None\n",
    "    component2 = None\n",
    "    component3 = None\n",
    "    \n",
    "    def __init__(self, productFactory):\n",
    "        self.productFactory = productFactory\n",
    "        self.createComponents()\n",
    "        \n",
    "    def createComponents(self):\n",
    "        self.component1 = self.productFactory.createComponent1()\n",
    "        self.component2 = self.productFactory.createComponent2()\n",
    "        self.component3 = self.productFactory.createComponent3()"
   ]
  },
  {
   "cell_type": "code",
   "execution_count": 2,
   "metadata": {},
   "outputs": [
    {
     "name": "stdout",
     "output_type": "stream",
     "text": [
      "step 1: activate component A1\n",
      "step 2: activate component B\n",
      "step 3: activate component C\n"
     ]
    }
   ],
   "source": [
    "p = ProductDeployment_Type1()\n",
    "p.step1()\n",
    "p.step2()\n",
    "p.step3()"
   ]
  },
  {
   "cell_type": "code",
   "execution_count": null,
   "metadata": {},
   "outputs": [],
   "source": []
  }
 ],
 "metadata": {
  "kernelspec": {
   "display_name": "Python 3",
   "language": "python",
   "name": "python3"
  },
  "language_info": {
   "codemirror_mode": {
    "name": "ipython",
    "version": 3
   },
   "file_extension": ".py",
   "mimetype": "text/x-python",
   "name": "python",
   "nbconvert_exporter": "python",
   "pygments_lexer": "ipython3",
   "version": "3.8.5"
  }
 },
 "nbformat": 4,
 "nbformat_minor": 4
}
