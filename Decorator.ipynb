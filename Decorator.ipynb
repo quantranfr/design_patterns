{
 "cells": [
  {
   "cell_type": "code",
   "execution_count": 4,
   "metadata": {},
   "outputs": [],
   "source": [
    "class Drink:\n",
    "    description = None\n",
    "    cost = None\n",
    "    \n",
    "    def getDescription(self):\n",
    "        return self.description\n",
    "        \n",
    "    def getCost(self):\n",
    "        return self.cost\n",
    "\n",
    "        \n",
    "class DrinkA(Drink):\n",
    "    def __init__(self):\n",
    "        self.description = 'This is drink A'\n",
    "        self.cost = 1.2\n",
    "\n",
    "    \n",
    "class DrinkB(Drink):\n",
    "    def __init__(self):\n",
    "        self.description = 'This is drink B'\n",
    "        self.cost = 1.5\n",
    "\n",
    "\n",
    "class ToppingDecorator(Drink):\n",
    "    drink = None\n",
    "    \n",
    "    def __init__(self, drink):\n",
    "        self.drink = drink\n",
    "        \n",
    "\n",
    "class ToppingA(ToppingDecorator):  \n",
    "    def __init__(self, drink):\n",
    "        super().__init__(drink)\n",
    "        self.description = self.drink.getDescription() + ' + ' + 'topping A'\n",
    "        self.cost = self.drink.getCost() + 0.2\n",
    "\n",
    "\n",
    "class ToppingB(ToppingDecorator):\n",
    "    def __init__(self, drink):\n",
    "        super().__init__(drink)\n",
    "        self.description = self.drink.getDescription() + ' + ' + 'topping B'\n",
    "        self.cost = self.drink.getCost() + 0.4"
   ]
  },
  {
   "cell_type": "code",
   "execution_count": 7,
   "metadata": {},
   "outputs": [
    {
     "name": "stdout",
     "output_type": "stream",
     "text": [
      "This is drink A + topping A + topping B + topping B\n",
      "Total costs 2.1999999999999997\n"
     ]
    }
   ],
   "source": [
    "# I want a drink A with topping A and double topping B\n",
    "d = DrinkA()\n",
    "d = ToppingA(d)\n",
    "d = ToppingB(d)\n",
    "d = ToppingB(d)\n",
    "print(d.getDescription())\n",
    "print('Total costs', d.getCost())"
   ]
  },
  {
   "cell_type": "code",
   "execution_count": null,
   "metadata": {},
   "outputs": [],
   "source": []
  }
 ],
 "metadata": {
  "kernelspec": {
   "display_name": "Python 3",
   "language": "python",
   "name": "python3"
  },
  "language_info": {
   "codemirror_mode": {
    "name": "ipython",
    "version": 3
   },
   "file_extension": ".py",
   "mimetype": "text/x-python",
   "name": "python",
   "nbconvert_exporter": "python",
   "pygments_lexer": "ipython3",
   "version": "3.8.5"
  }
 },
 "nbformat": 4,
 "nbformat_minor": 4
}
