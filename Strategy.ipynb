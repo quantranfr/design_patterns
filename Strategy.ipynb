{
 "cells": [
  {
   "cell_type": "code",
   "execution_count": 5,
   "metadata": {},
   "outputs": [],
   "source": [
    "class Animal_1:\n",
    "    def go(self):\n",
    "        raise NotImplementedError(\"not implemented\")\n",
    "        \n",
    "    def swim(self):\n",
    "        raise NotImplementedError(\"not implemented\")\n",
    "        \n",
    "\n",
    "class Dog_1(Animal_1):\n",
    "    def __init__(self):\n",
    "        print('I am a dog')\n",
    "        \n",
    "    def go(self):\n",
    "        print('I go with 4 legs')\n",
    "        \n",
    "    def swim(self):\n",
    "        print('I swim with 4 legs')\n",
    "        \n",
    "        \n",
    "class Cat_1(Animal_1):\n",
    "    def __init__(self):\n",
    "        print('I am a cat')\n",
    "\n",
    "    def go(self):\n",
    "        print('I go with 4 legs')\n",
    "        \n",
    "    def swim(self):\n",
    "        print('I cannot swim')"
   ]
  },
  {
   "cell_type": "code",
   "execution_count": 2,
   "metadata": {},
   "outputs": [
    {
     "name": "stdout",
     "output_type": "stream",
     "text": [
      "I am a dog\n",
      "I go with 4 legs\n",
      "I swim with 4 legs\n",
      "I am a cat\n",
      "I go with 4 legs\n",
      "I cannot swim\n"
     ]
    }
   ],
   "source": [
    "d = Dog_1()\n",
    "d.go()\n",
    "d.swim()\n",
    "\n",
    "c = Cat_1()\n",
    "c.go()\n",
    "c.swim()"
   ]
  },
  {
   "cell_type": "code",
   "execution_count": 3,
   "metadata": {},
   "outputs": [],
   "source": [
    "class GoBehavior:\n",
    "    def go(self):\n",
    "        raise NotImplementedError(\"not implemented\")\n",
    "        \n",
    "class GoWith2Legs:\n",
    "    def go(self):\n",
    "        print('I go with 2 legs')\n",
    "\n",
    "class GoWith4Legs:\n",
    "    def go(self):\n",
    "        print('I go with 4 legs')\n",
    "        \n",
    "class SwimBehavior:\n",
    "    def swim(self):\n",
    "        raise NotImplementedError(\"not implemented\")\n",
    "        \n",
    "class SwimWith2Legs:\n",
    "    def swim(self):\n",
    "        print('I swim with 2 legs')\n",
    "\n",
    "class SwimWith4Legs:\n",
    "    def swim(self):\n",
    "        print('I swim with 4 legs')\n",
    "        \n",
    "class SwimImpossible:\n",
    "    def swim(self):\n",
    "        print('I cannot swim')\n",
    "\n",
    "\n",
    "class Animal_2:\n",
    "    def __init__(self):\n",
    "        self.go_behavior = GoBehavior()\n",
    "        self.swim_behavior = SwimBehavior()\n",
    "        \n",
    "    def go(self):\n",
    "        self.go_behavior.go()\n",
    "        \n",
    "    def swim(self):\n",
    "        self.swim_behavior.swim()\n",
    "\n",
    "\n",
    "class Dog_2(Animal_2):\n",
    "    def __init__(self):\n",
    "        print('I am a dog')\n",
    "        self.go_behavior = GoWith4Legs()\n",
    "        self.swim_behavior = SwimWith4Legs()\n",
    "        \n",
    "        \n",
    "class Cat_2(Animal_2):\n",
    "    def __init__(self):\n",
    "        print('I am a cat')\n",
    "        self.go_behavior = GoWith4Legs()\n",
    "        self.swim_behavior = SwimImpossible()"
   ]
  },
  {
   "cell_type": "code",
   "execution_count": 4,
   "metadata": {},
   "outputs": [
    {
     "name": "stdout",
     "output_type": "stream",
     "text": [
      "I am a dog\n",
      "I go with 4 legs\n",
      "I swim with 4 legs\n",
      "I am a cat\n",
      "I go with 4 legs\n",
      "I cannot swim\n"
     ]
    }
   ],
   "source": [
    "d = Dog_2()\n",
    "d.go()\n",
    "d.swim()\n",
    "\n",
    "c = Cat_2()\n",
    "c.go()\n",
    "c.swim()"
   ]
  },
  {
   "cell_type": "code",
   "execution_count": null,
   "metadata": {},
   "outputs": [],
   "source": []
  }
 ],
 "metadata": {
  "kernelspec": {
   "display_name": "Python 3",
   "language": "python",
   "name": "python3"
  },
  "language_info": {
   "codemirror_mode": {
    "name": "ipython",
    "version": 3
   },
   "file_extension": ".py",
   "mimetype": "text/x-python",
   "name": "python",
   "nbconvert_exporter": "python",
   "pygments_lexer": "ipython3",
   "version": "3.8.5"
  }
 },
 "nbformat": 4,
 "nbformat_minor": 4
}
